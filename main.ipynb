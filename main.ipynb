{
  "nbformat": 4,
  "nbformat_minor": 0,
  "metadata": {
    "colab": {
      "name": "CNN for dog breed identification.ipynb",
      "provenance": [],
      "collapsed_sections": []
    },
    "kernelspec": {
      "name": "python3",
      "display_name": "Python 3"
    },
    "accelerator": "TPU"
  },
  "cells": [
    {
      "cell_type": "code",
      "metadata": {
        "id": "9yEhXpjU4Dbb",
        "colab_type": "code",
        "colab": {
          "base_uri": "https://localhost:8080/",
          "height": 124
        },
        "outputId": "ad74db20-39c2-47fd-f62b-6cd9f0faa7f7"
      },
      "source": [
        "from google.colab import drive\n",
        "drive.mount('/content/drive/')"
      ],
      "execution_count": null,
      "outputs": [
        {
          "output_type": "stream",
          "text": [
            "Go to this URL in a browser: https://accounts.google.com/o/oauth2/auth?client_id=947318989803-6bn6qk8qdgf4n4g3pfee6491hc0brc4i.apps.googleusercontent.com&redirect_uri=urn%3aietf%3awg%3aoauth%3a2.0%3aoob&scope=email%20https%3a%2f%2fwww.googleapis.com%2fauth%2fdocs.test%20https%3a%2f%2fwww.googleapis.com%2fauth%2fdrive%20https%3a%2f%2fwww.googleapis.com%2fauth%2fdrive.photos.readonly%20https%3a%2f%2fwww.googleapis.com%2fauth%2fpeopleapi.readonly&response_type=code\n",
            "\n",
            "Enter your authorization code:\n",
            "··········\n",
            "Mounted at /content/drive/\n"
          ],
          "name": "stdout"
        }
      ]
    },
    {
      "cell_type": "code",
      "metadata": {
        "id": "21gwgd3K8aVS",
        "colab_type": "code",
        "colab": {
          "base_uri": "https://localhost:8080/",
          "height": 208
        },
        "outputId": "3c81e6b0-dfd4-4b10-c6ee-f2cf09be0558"
      },
      "source": [
        "# Download the dataset\n",
        "!wget https://s3-us-west-1.amazonaws.com/udacity-aind/dog-project/dogImages.zip"
      ],
      "execution_count": null,
      "outputs": [
        {
          "output_type": "stream",
          "text": [
            "--2020-08-31 08:41:43--  https://s3-us-west-1.amazonaws.com/udacity-aind/dog-project/dogImages.zip\n",
            "Resolving s3-us-west-1.amazonaws.com (s3-us-west-1.amazonaws.com)... 52.219.112.16\n",
            "Connecting to s3-us-west-1.amazonaws.com (s3-us-west-1.amazonaws.com)|52.219.112.16|:443... connected.\n",
            "HTTP request sent, awaiting response... 200 OK\n",
            "Length: 1132023110 (1.1G) [application/zip]\n",
            "Saving to: ‘dogImages.zip’\n",
            "\n",
            "dogImages.zip       100%[===================>]   1.05G  48.5MB/s    in 21s     \n",
            "\n",
            "2020-08-31 08:42:05 (50.3 MB/s) - ‘dogImages.zip’ saved [1132023110/1132023110]\n",
            "\n"
          ],
          "name": "stdout"
        }
      ]
    },
    {
      "cell_type": "code",
      "metadata": {
        "id": "PFPuU0rhAxsl",
        "colab_type": "code",
        "colab": {}
      },
      "source": [
        "# Extract dataset\n",
        "import zipfile\n",
        "with zipfile.ZipFile('dogImages.zip', 'r') as zip_ref:\n",
        "    zip_ref.extractall('')\n",
        "\n",
        "# Rename dataset\n",
        "!mv dogImages dataset"
      ],
      "execution_count": null,
      "outputs": []
    },
    {
      "cell_type": "code",
      "metadata": {
        "id": "XMZCnkM8BP9H",
        "colab_type": "code",
        "colab": {
          "base_uri": "https://localhost:8080/",
          "height": 642
        },
        "outputId": "7dabf56b-f7b8-439b-f20a-5463a5824eec"
      },
      "source": [
        "# Fix pour Truncated File OS Error\n",
        "from PIL import ImageFile\n",
        "ImageFile.LOAD_TRUNCATED_IMAGES = True\n",
        "\n",
        "# 1 - Construction du CNN\n",
        "from keras.models import Sequential\n",
        "from keras.models import load_model\n",
        "\n",
        "# Initialiser CNN\n",
        "classifier = Sequential()\n",
        "\n",
        "# Charger le modèle\n",
        "classifier = load_model('/content/drive/My Drive/CNN-for-dog-breed/checkpoint-02-0.74.hdf5')\n",
        "classifier.summary()"
      ],
      "execution_count": null,
      "outputs": [
        {
          "output_type": "stream",
          "text": [
            "Model: \"sequential_3\"\n",
            "_________________________________________________________________\n",
            "Layer (type)                 Output Shape              Param #   \n",
            "=================================================================\n",
            "xception (Functional)        (None, 2048)              20861480  \n",
            "_________________________________________________________________\n",
            "batch_normalization_15 (Batc (None, 2048)              8192      \n",
            "_________________________________________________________________\n",
            "dropout_16 (Dropout)         (None, 2048)              0         \n",
            "_________________________________________________________________\n",
            "dense_16 (Dense)             (None, 1024)              2098176   \n",
            "_________________________________________________________________\n",
            "dropout_17 (Dropout)         (None, 1024)              0         \n",
            "_________________________________________________________________\n",
            "dense_17 (Dense)             (None, 1024)              1049600   \n",
            "_________________________________________________________________\n",
            "dropout_18 (Dropout)         (None, 1024)              0         \n",
            "_________________________________________________________________\n",
            "dense_18 (Dense)             (None, 1024)              1049600   \n",
            "_________________________________________________________________\n",
            "dropout_19 (Dropout)         (None, 1024)              0         \n",
            "_________________________________________________________________\n",
            "dense_19 (Dense)             (None, 1024)              1049600   \n",
            "_________________________________________________________________\n",
            "dropout_20 (Dropout)         (None, 1024)              0         \n",
            "_________________________________________________________________\n",
            "dense_20 (Dense)             (None, 1024)              1049600   \n",
            "_________________________________________________________________\n",
            "dropout_21 (Dropout)         (None, 1024)              0         \n",
            "_________________________________________________________________\n",
            "dense_21 (Dense)             (None, 133)               136325    \n",
            "=================================================================\n",
            "Total params: 27,302,573\n",
            "Trainable params: 6,436,997\n",
            "Non-trainable params: 20,865,576\n",
            "_________________________________________________________________\n"
          ],
          "name": "stdout"
        }
      ]
    },
    {
      "cell_type": "code",
      "metadata": {
        "id": "VGAFrzrKCoLb",
        "colab_type": "code",
        "colab": {}
      },
      "source": [
        "NB_BREEDS = 133\n",
        "INPUT_SIZE = 512\n",
        "BATCH_SIZE = 16\n",
        "NB_TRAIN = 6680\n",
        "NB_VALID = 835\n",
        "NB_EPOCH = 20"
      ],
      "execution_count": null,
      "outputs": []
    },
    {
      "cell_type": "code",
      "metadata": {
        "id": "i1KaYPmxBxr-",
        "colab_type": "code",
        "colab": {
          "base_uri": "https://localhost:8080/",
          "height": 52
        },
        "outputId": "b948eb13-4428-4251-b3f0-17340cfe52da"
      },
      "source": [
        "from keras.applications import Xception\n",
        "\n",
        "xception = Xception(weights='imagenet', \n",
        "                                 include_top = False, \n",
        "                                 input_shape = (INPUT_SIZE, INPUT_SIZE,3),\n",
        "                                 pooling = 'max')"
      ],
      "execution_count": null,
      "outputs": [
        {
          "output_type": "stream",
          "text": [
            "Downloading data from https://storage.googleapis.com/tensorflow/keras-applications/xception/xception_weights_tf_dim_ordering_tf_kernels_notop.h5\n",
            "83689472/83683744 [==============================] - 1s 0us/step\n"
          ],
          "name": "stdout"
        }
      ]
    },
    {
      "cell_type": "code",
      "metadata": {
        "id": "0m0bQ6lEB-Ig",
        "colab_type": "code",
        "colab": {
          "base_uri": "https://localhost:8080/",
          "height": 642
        },
        "outputId": "882e76dd-90eb-4612-eb9c-5dfab77f693f"
      },
      "source": [
        "classifier.add(xception)\n",
        "# Rendre les couches du réseau XCeption non-entrainable (puisque déjà \n",
        "# entrainés)\n",
        "for layer in classifier.layers:\n",
        "    layer.trainable = False\n",
        "\n",
        "from keras.layers import Dense, Dropout, BatchNormalization\n",
        "classifier.add(BatchNormalization())\n",
        "# Fully connected\n",
        "classifier.add(Dropout(0.1))\n",
        "classifier.add(Dense(units=1024, activation=\"relu\"))\n",
        "classifier.add(Dropout(0.1))\n",
        "classifier.add(Dense(units=1024, activation=\"relu\"))\n",
        "classifier.add(Dropout(0.1))\n",
        "classifier.add(Dense(units=1024, activation=\"relu\"))\n",
        "classifier.add(Dropout(0.1))\n",
        "classifier.add(Dense(units=1024, activation=\"relu\"))\n",
        "classifier.add(Dropout(0.1))\n",
        "classifier.add(Dense(units=1024, activation=\"relu\"))\n",
        "classifier.add(Dropout(0.1))\n",
        "\n",
        "# Predictions\n",
        "classifier.add(Dense(units=NB_BREEDS, activation=\"softmax\"))\n",
        "\n",
        "# Compilation\n",
        "from keras.optimizers import RMSprop\n",
        "classifier.summary()\n",
        "classifier.compile(optimizer=\"adam\", loss=\"categorical_crossentropy\", metrics=['accuracy'])"
      ],
      "execution_count": null,
      "outputs": [
        {
          "output_type": "stream",
          "text": [
            "Model: \"sequential\"\n",
            "_________________________________________________________________\n",
            "Layer (type)                 Output Shape              Param #   \n",
            "=================================================================\n",
            "xception (Functional)        (None, 2048)              20861480  \n",
            "_________________________________________________________________\n",
            "batch_normalization_4 (Batch (None, 2048)              8192      \n",
            "_________________________________________________________________\n",
            "dropout (Dropout)            (None, 2048)              0         \n",
            "_________________________________________________________________\n",
            "dense (Dense)                (None, 1024)              2098176   \n",
            "_________________________________________________________________\n",
            "dropout_1 (Dropout)          (None, 1024)              0         \n",
            "_________________________________________________________________\n",
            "dense_1 (Dense)              (None, 1024)              1049600   \n",
            "_________________________________________________________________\n",
            "dropout_2 (Dropout)          (None, 1024)              0         \n",
            "_________________________________________________________________\n",
            "dense_2 (Dense)              (None, 1024)              1049600   \n",
            "_________________________________________________________________\n",
            "dropout_3 (Dropout)          (None, 1024)              0         \n",
            "_________________________________________________________________\n",
            "dense_3 (Dense)              (None, 1024)              1049600   \n",
            "_________________________________________________________________\n",
            "dropout_4 (Dropout)          (None, 1024)              0         \n",
            "_________________________________________________________________\n",
            "dense_4 (Dense)              (None, 1024)              1049600   \n",
            "_________________________________________________________________\n",
            "dropout_5 (Dropout)          (None, 1024)              0         \n",
            "_________________________________________________________________\n",
            "dense_5 (Dense)              (None, 133)               136325    \n",
            "=================================================================\n",
            "Total params: 27,302,573\n",
            "Trainable params: 6,436,997\n",
            "Non-trainable params: 20,865,576\n",
            "_________________________________________________________________\n"
          ],
          "name": "stdout"
        }
      ]
    },
    {
      "cell_type": "code",
      "metadata": {
        "id": "EzUhqKtmCB8f",
        "colab_type": "code",
        "colab": {
          "base_uri": "https://localhost:8080/",
          "height": 52
        },
        "outputId": "e766241a-4c7c-471a-9306-63029b595f8a"
      },
      "source": [
        "# Entraînement sur les images !\n",
        "from keras.preprocessing.image import ImageDataGenerator\n",
        "train_datagen = ImageDataGenerator(\n",
        "        rescale=1./255,\n",
        "        shear_range=0.2,\n",
        "        zoom_range=0.2,\n",
        "        horizontal_flip=True)\n",
        "test_datagen = ImageDataGenerator(rescale=1./255)\n",
        "training_set = train_datagen.flow_from_directory(\n",
        "        'dataset/train',\n",
        "        target_size=(INPUT_SIZE,INPUT_SIZE),\n",
        "        batch_size=BATCH_SIZE,\n",
        "        class_mode='categorical')\n",
        "test_set = test_datagen.flow_from_directory(\n",
        "        'dataset/valid',\n",
        "        target_size=(INPUT_SIZE,INPUT_SIZE),\n",
        "        batch_size=BATCH_SIZE,\n",
        "        class_mode='categorical')"
      ],
      "execution_count": null,
      "outputs": [
        {
          "output_type": "stream",
          "text": [
            "Found 6680 images belonging to 133 classes.\n",
            "Found 835 images belonging to 133 classes.\n"
          ],
          "name": "stdout"
        }
      ]
    },
    {
      "cell_type": "code",
      "metadata": {
        "id": "mLXaQ3iPKoz9",
        "colab_type": "code",
        "colab": {
          "base_uri": "https://localhost:8080/",
          "height": 36
        },
        "outputId": "19344420-9057-4170-90e8-39d9c6e9269c"
      },
      "source": [
        "import tensorflow as tf\n",
        "tf.test.gpu_device_name()"
      ],
      "execution_count": null,
      "outputs": [
        {
          "output_type": "execute_result",
          "data": {
            "application/vnd.google.colaboratory.intrinsic+json": {
              "type": "string"
            },
            "text/plain": [
              "''"
            ]
          },
          "metadata": {
            "tags": []
          },
          "execution_count": 9
        }
      ]
    },
    {
      "cell_type": "code",
      "metadata": {
        "id": "xjOiy-IiCE6F",
        "colab_type": "code",
        "colab": {
          "base_uri": "https://localhost:8080/",
          "height": 191
        },
        "outputId": "80ce43fc-18e5-414c-a5da-b63deddd4565"
      },
      "source": [
        "from keras.callbacks import EarlyStopping, ModelCheckpoint\n",
        "callback = EarlyStopping(monitor='loss', patience=3)\n",
        "checkpoint = ModelCheckpoint(\"/content/drive/My Drive/CNN-for-dog-breed/checkpoint-bis-{epoch:02d}-{val_accuracy:.2f}.hdf5\", monitor='val_accuracy', verbose=1, save_best_only=True, mode='max')\n",
        "\n",
        "history = classifier.fit(\n",
        "        training_set,\n",
        "        steps_per_epoch=NB_TRAIN // BATCH_SIZE,\n",
        "        epochs=NB_EPOCH,\n",
        "        validation_data=test_set,\n",
        "        validation_steps=NB_VALID // BATCH_SIZE,\n",
        "        callbacks=[callback, checkpoint])\n",
        "\n",
        "classifier.save(\"/content/drive/My Drive/CNN-for-dog-breed/final-xception.h5\")\n",
        "\n",
        "import matplotlib.pyplot as plt\n",
        "# summarize history for accuracy\n",
        "plt.plot(history.history['accuracy'])\n",
        "plt.plot(history.history['val_accuracy'])\n",
        "plt.title('model accuracy')\n",
        "plt.ylabel('accuracy')\n",
        "plt.xlabel('epoch')\n",
        "plt.legend(['train', 'test'], loc='upper left')\n",
        "plt.show()\n",
        "# summarize history for loss\n",
        "plt.plot(history.history['loss'])\n",
        "plt.plot(history.history['val_loss'])\n",
        "plt.title('model loss')\n",
        "plt.ylabel('loss')\n",
        "plt.xlabel('epoch')\n",
        "plt.legend(['train', 'test'], loc='upper left')\n",
        "plt.show()"
      ],
      "execution_count": null,
      "outputs": [
        {
          "output_type": "stream",
          "text": [
            "Epoch 1/20\n",
            "417/417 [==============================] - ETA: 0s - loss: 1.0430 - accuracy: 0.7383 \n",
            "Epoch 00001: val_accuracy improved from -inf to 0.79688, saving model to /content/drive/My Drive/Perso/IA/CNN-for-dog-breed/checkpoint-bis-01-0.80.hdf5\n",
            "417/417 [==============================] - 7530s 18s/step - loss: 1.0430 - accuracy: 0.7383 - val_loss: 0.9334 - val_accuracy: 0.7969\n",
            "Epoch 2/20\n",
            "417/417 [==============================] - ETA: 0s - loss: 0.8716 - accuracy: 0.7746 \n",
            "Epoch 00002: val_accuracy improved from 0.79688 to 0.81611, saving model to /content/drive/My Drive/Perso/IA/CNN-for-dog-breed/checkpoint-bis-02-0.82.hdf5\n",
            "417/417 [==============================] - 7546s 18s/step - loss: 0.8716 - accuracy: 0.7746 - val_loss: 0.7388 - val_accuracy: 0.8161\n",
            "Epoch 3/20\n",
            " 37/417 [=>............................] - ETA: 1:39:58 - loss: 0.6534 - accuracy: 0.8091"
          ],
          "name": "stdout"
        }
      ]
    }
  ]
}